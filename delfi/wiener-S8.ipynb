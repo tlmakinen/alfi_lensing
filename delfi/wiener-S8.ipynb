{
  "cells": [
    {
      "cell_type": "code",
      "execution_count": 1,
      "id": "4abaa305",
      "metadata": {},
      "outputs": [
        {
          "name": "stdout",
          "output_type": "stream",
          "text": [
            "/Users/lucas/repositories/myDelfi\n"
          ]
        }
      ],
      "source": [
        "cd /Users/lucas/repositories/myDelfi"
      ]
    },
    {
      "cell_type": "code",
      "execution_count": 2,
      "id": "2ac5bafc",
      "metadata": {
        "id": "2ac5bafc"
      },
      "outputs": [
        {
          "name": "stderr",
          "output_type": "stream",
          "text": [
            "/usr/local/anaconda3/lib/python3.8/site-packages/keras/optimizer_v2/adam.py:105: UserWarning: The `lr` argument is deprecated, use `learning_rate` instead.\n",
            "  super(Adam, self).__init__(name, **kwargs)\n"
          ]
        }
      ],
      "source": [
        "import numpy as np\n",
        "import matplotlib.pyplot as plt\n",
        "import tensorflow as tf\n",
        "from plotting import *\n",
        "from ndes import *\n",
        "from mdn import *"
      ]
    },
    {
      "cell_type": "code",
      "execution_count": 3,
      "id": "azvJBwf1fXeH",
      "metadata": {
        "colab": {
          "base_uri": "https://localhost:8080/"
        },
        "id": "azvJBwf1fXeH",
        "outputId": "0ee07ac1-ca8b-4a4d-ca55-0c3554038cc7"
      },
      "outputs": [
        {
          "name": "stdout",
          "output_type": "stream",
          "text": [
            "Num GPUs Available:  0\n"
          ]
        }
      ],
      "source": [
        "import tensorflow as tf\n",
        "print(\"Num GPUs Available: \", len(tf.config.list_physical_devices('GPU')))"
      ]
    },
    {
      "cell_type": "code",
      "execution_count": 36,
      "id": "423eaa2d",
      "metadata": {
        "id": "423eaa2d"
      },
      "outputs": [],
      "source": [
        "# import data\n",
        "theta_ = (np.load('./borg-imnn/regression/results/regression_imnn_theta.npy').astype(np.float32))\n",
        "summaries_ = np.load('./borg-imnn/regression/regression_imnn_x.npy').astype(np.float32)\n",
        "\n",
        "def get_S8(omegam, sigma8):\n",
        "    return sigma8 * np.sqrt(omegam / 0.3)\n",
        "\n",
        "# summaries_[:, 0] = get_S8(summaries_[:, 0], summaries_[:, 1])\n",
        "# theta_[:, 0]  = get_S8(theta_[:, 0], theta_[:, 1])\n",
        "\n",
        "\n",
        "theta_ = (np.load('./borg-imnn/regression/results/results_wiener/theta_reg_S8_wiener2.npy').astype(np.float32))\n",
        "summaries_ = np.load('./borg-imnn/regression/results/results_wiener/x_reg_S8_wiener2.npy').astype(np.float32)\n",
        "\n",
        "\n",
        "\n",
        "\n",
        "\n",
        "\n",
        "max_S8 = 2.720\n",
        "min_S8 = 0.24\n",
        "\n",
        "\n",
        "#summaries_ = summaries_.reshape(summaries_.shape[0], 4)\n",
        "\n",
        "weights = np.ones((summaries_.shape[0], 1)).astype(np.float32)\n",
        "\n",
        "\n",
        "\n",
        "\n",
        "# bijector theta -> phi\n",
        "theta_min = [min_S8, 0.35]\n",
        "theta_max = [max_S8 + 0.05, 1.65]\n",
        "bijector = tfb.Blockwise([tfb.Chain([tfb.Invert(tfb.NormalCDF()), tfb.Scale(np.float32(1./(theta_max[_] - theta_min[_]))), tfb.Shift(-theta_min[_])]) for _ in range(len(theta_min))])\n",
        "\n",
        "# phi\n",
        "phi_ = bijector(theta_).numpy()"
      ]
    },
    {
      "cell_type": "code",
      "execution_count": 37,
      "id": "6b35b98f",
      "metadata": {},
      "outputs": [
        {
          "data": {
            "text/plain": [
              "(0.24785069, 2.7173748)"
            ]
          },
          "execution_count": 37,
          "metadata": {},
          "output_type": "execute_result"
        }
      ],
      "source": [
        "theta_[:, 0].min(), theta_[:, 0].max()"
      ]
    },
    {
      "cell_type": "code",
      "execution_count": 38,
      "id": "bfef9a04",
      "metadata": {},
      "outputs": [
        {
          "data": {
            "text/plain": [
              "((2000, 2), (2000, 2), (2000, 2))"
            ]
          },
          "execution_count": 38,
          "metadata": {},
          "output_type": "execute_result"
        }
      ],
      "source": [
        "theta_.shape, summaries_.shape, phi_.shape"
      ]
    },
    {
      "cell_type": "code",
      "execution_count": 39,
      "id": "0d1896d1",
      "metadata": {
        "colab": {
          "base_uri": "https://localhost:8080/",
          "height": 265
        },
        "id": "0d1896d1",
        "outputId": "845c8742-9cab-4d89-9cd2-fe6c7f6ef410"
      },
      "outputs": [
        {
          "data": {
            "image/png": "[encoded data removed]",
            "text/plain": [
              "<Figure size 432x288 with 1 Axes>"
            ]
          },
          "metadata": {
            "needs_background": "light"
          },
          "output_type": "display_data"
        }
      ],
      "source": [
        "plt.scatter(phi_[:, 0], (summaries_[:, 0]), s=3)\n",
        "#plt.axvline(0.27, color='k')\n",
        "plt.show()"
      ]
    },
    {
      "cell_type": "code",
      "execution_count": 40,
      "id": "6cf9b76b",
      "metadata": {
        "colab": {
          "base_uri": "https://localhost:8080/",
          "height": 265
        },
        "id": "6cf9b76b",
        "outputId": "1be109f3-246d-4a89-e9c6-1e69b4f3b7a6"
      },
      "outputs": [
        {
          "data": {
            "image/png": "[encoded data removed]",
            "text/plain": [
              "<Figure size 432x288 with 1 Axes>"
            ]
          },
          "metadata": {
            "needs_background": "light"
          },
          "output_type": "display_data"
        }
      ],
      "source": [
        "plt.scatter(phi_[:,1], (summaries_[:,1]), s=0.1)\n",
        "plt.show()"
      ]
    },
    {
      "cell_type": "code",
      "execution_count": 41,
      "id": "QQmW3z_rfner",
      "metadata": {
        "id": "QQmW3z_rfner"
      },
      "outputs": [],
      "source": [
        "theta = tf.convert_to_tensor(theta_, dtype=tf.float32)\n",
        "phi   = tf.convert_to_tensor(phi_, dtype=tf.float32)\n",
        "weights = tf.convert_to_tensor(weights, dtype=tf.float32)\n",
        "summaries = tf.convert_to_tensor(summaries_, dtype=tf.float32)"
      ]
    },
    {
      "cell_type": "code",
      "execution_count": 42,
      "id": "4f3e7a6a",
      "metadata": {
        "colab": {
          "base_uri": "https://localhost:8080/"
        },
        "id": "4f3e7a6a",
        "outputId": "90fd3a27-9cbc-4879-a0d4-1556ef30ee0e"
      },
      "outputs": [
        {
          "name": "stderr",
          "output_type": "stream",
          "text": [
            "/usr/local/anaconda3/lib/python3.8/site-packages/keras/optimizer_v2/adam.py:105: UserWarning: The `lr` argument is deprecated, use `learning_rate` instead.\n",
            "  super(Adam, self).__init__(name, **kwargs)\n"
          ]
        }
      ],
      "source": [
        "# Amortized posterior\n",
        "filename = './borg-imnn/regression/results/results_wiener/amortized_post_s8'\n",
        "AmortizedPosterior = MixtureDensityNetwork2(n_components=3, \n",
        "                            n_conditionals=2, \n",
        "                            n_dimensions=2, \n",
        "                            optimizer=tf.keras.optimizers.Adam(lr=1e-3),\n",
        "                            n_hidden=[64, 64],\n",
        "                            activation=[tf.tanh, tf.tanh])"
      ]
    },
    {
      "cell_type": "code",
      "execution_count": 88,
      "id": "10f919cb",
      "metadata": {},
      "outputs": [
        {
          "name": "stderr",
          "output_type": "stream",
          "text": [
            " 22%|██▏       | 654/3000 [00:24<01:27, 26.80it/s, training loss=-.028, validation_loss=-.000958]  \n"
          ]
        }
      ],
      "source": [
        "AmortizedPosterior.optimizer = tf.keras.optimizers.Adam(lr=1e-4)\n",
        "historyAP = AmortizedPosterior.fit(training_conditionals=summaries, training_variables=phi, training_weights=weights, \n",
        "                        epochs=3000, batch_size=256, patience=500, save=True, filename=filename)"
      ]
    },
    {
      "cell_type": "code",
      "execution_count": 89,
      "id": "ea570203",
      "metadata": {
        "id": "ea570203"
      },
      "outputs": [],
      "source": [
        "# reload best model\n",
        "AmortizedPosterior = MixtureDensityNetwork2(n_components=3, \n",
        "                            n_conditionals=4, \n",
        "                            n_dimensions=2, \n",
        "                            optimizer=tf.keras.optimizers.Adam(lr=1e-4),\n",
        "                            n_hidden=[50, 100],\n",
        "                            activation=[tf.tanh, tf.tanh],\n",
        "                            restore=True,\n",
        "                            restore_filename=filename)"
      ]
    },
    {
      "cell_type": "code",
      "execution_count": 90,
      "id": "fad13661",
      "metadata": {},
      "outputs": [
        {
          "data": {
            "text/plain": [
              "'/Users/lucas/repositories/myDelfi'"
            ]
          },
          "execution_count": 90,
          "metadata": {},
          "output_type": "execute_result"
        }
      ],
      "source": [
        "pwd"
      ]
    },
    {
      "cell_type": "code",
      "execution_count": 91,
      "id": "a2b40830",
      "metadata": {
        "id": "a2b40830"
      },
      "outputs": [],
      "source": [
        "#obs_summs = np.array([0.3063951, 0.7823376])\n",
        "#obs_summs[0] = get_S8(obs_summs[0], obs_summs[1])\n",
        "\n",
        "summaries_obs = np.array([0.8150863 , 0.77163243])#np.load(\"borg-imnn/regression/results/results_wiener/reg_estimates_S8_wiener2.npy\")"
      ]
    },
    {
      "cell_type": "code",
      "execution_count": 92,
      "id": "da234816",
      "metadata": {
        "id": "da234816"
      },
      "outputs": [],
      "source": [
        "# plot over a grid\n",
        "omegaM = np.linspace(min_S8, max_S8, 70)\n",
        "sigma8 = np.linspace(0.41, 1.6, 110)\n",
        "OM, S8 = np.meshgrid(omegaM, sigma8)\n",
        "theta_grid = np.concatenate([OM[...,np.newaxis], S8[...,np.newaxis]], axis=-1)\n",
        "phi_grid = bijector(theta_grid)\n",
        "\n",
        "cond_shape = theta_grid.shape[:-1] + (2,)\n",
        "\n",
        "log_prob = tf.squeeze(AmortizedPosterior.log_prob(phi_grid, conditional=summaries_obs*np.ones(cond_shape).astype(np.float32))).numpy()\n",
        "#log_prob = SamplingDistribution.log_prob(summaries_obs*np.ones(phi_grid.shape).astype(np.float32), conditional=theta_grid).numpy()\n",
        "log_prob = log_prob - max(log_prob.flatten())"
      ]
    },
    {
      "cell_type": "code",
      "execution_count": 93,
      "id": "d7345255",
      "metadata": {
        "colab": {
          "base_uri": "https://localhost:8080/",
          "height": 269
        },
        "id": "d7345255",
        "outputId": "d4608470-38d0-4fb0-a6cb-5c6b68519d0e"
      },
      "outputs": [
        {
          "data": {
            "image/png": "[encoded data removed]",
            "text/plain": [
              "<Figure size 432x288 with 1 Axes>"
            ]
          },
          "metadata": {
            "needs_background": "light"
          },
          "output_type": "display_data"
        }
      ],
      "source": [
        "plt.contourf(omegaM, sigma8, np.exp(log_prob))\n",
        "plt.show()"
      ]
    },
    {
      "cell_type": "code",
      "execution_count": 94,
      "id": "ffac7541",
      "metadata": {
        "colab": {
          "base_uri": "https://localhost:8080/"
        },
        "id": "ffac7541",
        "outputId": "e243e20d-68d0-498a-9238-35bc142493b2"
      },
      "outputs": [
        {
          "data": {
            "text/plain": [
              "0.5469495"
            ]
          },
          "execution_count": 94,
          "metadata": {},
          "output_type": "execute_result"
        }
      ],
      "source": [
        "np.std(theta[:,0])"
      ]
    },
    {
      "cell_type": "code",
      "execution_count": 95,
      "id": "b7b823ff",
      "metadata": {},
      "outputs": [],
      "source": [
        "def get_OmegaM(S8, sigma8):\n",
        "    return 0.3*(S8 / sigma8)**2"
      ]
    },
    {
      "cell_type": "code",
      "execution_count": 96,
      "id": "9d320e5f",
      "metadata": {
        "id": "9d320e5f"
      },
      "outputs": [],
      "source": [
        "Posterior = AmortizedPosterior.distribution(summaries_obs[np.newaxis, :].astype(np.float32))\n",
        "\n",
        "posterior_samples = bijector.inverse(Posterior.sample(100000)).numpy()\n",
        "cut = np.all(~np.isinf(posterior_samples), axis=-1)\n",
        "posterior_samples = posterior_samples[cut,:]\n",
        "\n",
        "posterior_samples[:, 0] = get_OmegaM(posterior_samples[:, 0], posterior_samples[:, 1])\n",
        "\n",
        "# cut = posterior_samples[:, 0] < 0.8\n",
        "# posterior_samples = posterior_samples[cut, :]\n",
        "\n",
        "# cut = posterior_samples[:, 0] > 0.1\n",
        "# posterior_samples = posterior_samples[cut, :]"
      ]
    },
    {
      "cell_type": "code",
      "execution_count": 97,
      "id": "817e28fb",
      "metadata": {},
      "outputs": [
        {
          "data": {
            "text/plain": [
              "(100000, 2)"
            ]
          },
          "execution_count": 97,
          "metadata": {},
          "output_type": "execute_result"
        }
      ],
      "source": [
        "posterior_samples.shape"
      ]
    },
    {
      "cell_type": "code",
      "execution_count": 98,
      "id": "fSObTwCjikGC",
      "metadata": {
        "colab": {
          "base_uri": "https://localhost:8080/",
          "height": 372
        },
        "id": "fSObTwCjikGC",
        "outputId": "502326e1-d148-467e-8577-bc1ba9416c6a"
      },
      "outputs": [
        {
          "data": {
            "text/plain": [
              "(array([1.3029e+04, 6.2518e+04, 2.2192e+04, 2.1390e+03, 1.1400e+02,\n",
              "        2.0000e+00, 0.0000e+00, 2.0000e+00, 3.0000e+00, 1.0000e+00]),\n",
              " array([0.12515615, 0.24805392, 0.37095168, 0.49384946, 0.6167472 ,\n",
              "        0.739645  , 0.86254275, 0.98544055, 1.1083384 , 1.2312361 ,\n",
              "        1.3541338 ], dtype=float32),\n",
              " <BarContainer object of 10 artists>)"
            ]
          },
          "execution_count": 98,
          "metadata": {},
          "output_type": "execute_result"
        },
        {
          "data": {
            "image/png": "[encoded data removed]",
            "text/plain": [
              "<Figure size 432x288 with 1 Axes>"
            ]
          },
          "metadata": {
            "needs_background": "light"
          },
          "output_type": "display_data"
        }
      ],
      "source": [
        "plt.hist(posterior_samples[:, 0])"
      ]
    },
    {
      "cell_type": "code",
      "execution_count": 99,
      "id": "qxaVmggb5UbT",
      "metadata": {
        "colab": {
          "base_uri": "https://localhost:8080/"
        },
        "id": "qxaVmggb5UbT",
        "outputId": "0a4e5a0f-12d8-4389-a327-49278d7ebb26"
      },
      "outputs": [],
      "source": [
        "#np.save('./borg-imnn/regression/results/posterior_samples_S8_3', posterior_samples)"
      ]
    },
    {
      "cell_type": "code",
      "execution_count": 100,
      "id": "OWqWHkLm5aOq",
      "metadata": {
        "colab": {
          "base_uri": "https://localhost:8080/",
          "height": 283
        },
        "id": "OWqWHkLm5aOq",
        "outputId": "80a0883f-031f-4ad2-8671-bf2d65d8b18c"
      },
      "outputs": [],
      "source": [
        "import numpy as np\n",
        "import h5py as h5\n",
        "import matplotlib.pylab as plt\n",
        "from scipy.stats import gaussian_kde\n",
        "\n",
        "def get_data_borg(f,start):\n",
        "    A1 = f['A1']\n",
        "    bTA = f['bTA']\n",
        "    A2 = f['A2']\n",
        "    omegaM = f['omegaM']\n",
        "    sigma8 = f['sigma8']\n",
        "    h100 = f['h']\n",
        "    return A1[start:], bTA[start:], A2[start:], omegaM[start:], h100[start:], sigma8[start:]\n",
        "\n",
        "omegaM,sigma8,h100 = np.load(\"/Users/lucas/repositories/IMNN_vs_BORG/posterior_plots/borg_posterio_twoparam.npy\").T\n",
        "\n",
        "g = np.load('/Users/lucas/repositories/IMNN_vs_BORG/borg_runs_fixed_IA_fixed_h.npz')\n",
        "A1,bTA,A2,omegaM,h100,sigma8 = get_data_borg(g,0)\n",
        "\n",
        "omegaM_cls, s8_cls, *_ = np.load(\"/Users/lucas/repositories/IMNN_vs_BORG/samples_noIA.npy\").T\n"
      ]
    },
    {
      "cell_type": "code",
      "execution_count": 101,
      "id": "EIdfvpeA4igE",
      "metadata": {
        "colab": {
          "base_uri": "https://localhost:8080/",
          "height": 522
        },
        "id": "EIdfvpeA4igE",
        "outputId": "0e4c91f9-0c6c-4a97-85e2-f76828d0d67f"
      },
      "outputs": [
        {
          "data": {
            "image/png": "[encoded data removed]",
            "text/plain": [
              "<Figure size 504x504 with 4 Axes>"
            ]
          },
          "metadata": {
            "needs_background": "light"
          },
          "output_type": "display_data"
        }
      ],
      "source": [
        "from chainconsumer import ChainConsumer\n",
        "\n",
        "_psts = posterior_samples.copy()\n",
        "#_psts[:, 0] = 0.3*(posterior_samples[:, 0]**2 / posterior_samples[:, 1]**2)\n",
        "\n",
        "cs = ChainConsumer()\n",
        "cs.add_chain(_psts, parameters=['omegaM', 'sigma8'], name='DELFI + IMNN') #, color=corner_colors[0])\n",
        "\n",
        "cs.add_chain(np.stack([omegaM_cls, s8_cls], -1), parameters=['omegaM', 'sigma8'], name='Cls') #, color=corner_colors[0])\n",
        "\n",
        "cs.add_chain(np.stack([omegaM, sigma8], axis=-1), parameters=['omegaM', 'sigma8'], name='BORG')\n",
        "\n",
        "cs.configure(linestyles=[\"-\", \"-\", \"-\"], linewidths=[1.0, 1.0, 1.0], usetex=False,\n",
        "        shade=[True, True, False], shade_alpha=[0.7, 0.6, 0.], tick_font_size=8, sigma2d=True)\n",
        "cs.plotter.plot((7,7))\n",
        "plt.show()"
      ]
    },
    {
      "cell_type": "markdown",
      "id": "qw3jB_wmpEKN",
      "metadata": {
        "id": "qw3jB_wmpEKN"
      },
      "source": [
        "# now set up PIT coverage tests\n",
        "\n",
        "for every pair (theta*, data*) in the training set, for each of the marginals compute P(theta < theta* | data*), and plot the distribution of those cumulative probabilities"
      ]
    },
    {
      "cell_type": "code",
      "execution_count": 102,
      "id": "b1953474",
      "metadata": {},
      "outputs": [],
      "source": [
        "from tqdm import tqdm"
      ]
    },
    {
      "cell_type": "code",
      "execution_count": 103,
      "id": "2PQ28EVlqEJz",
      "metadata": {
        "id": "2PQ28EVlqEJz"
      },
      "outputs": [
        {
          "name": "stderr",
          "output_type": "stream",
          "text": [
            "100%|██████████| 2000/2000 [02:27<00:00, 13.57it/s]\n"
          ]
        }
      ],
      "source": [
        "omegam_cdfs = []\n",
        "sigma8_cdfs = []\n",
        "\n",
        "for i in tqdm(range(2000)):\n",
        "  theta_i = theta_[i]\n",
        "  summary_i = summaries_[i]\n",
        "  # could add tfp mixture model here for more than one MDN\n",
        "  # p(theta | x)\n",
        "  dist = AmortizedPosterior.distribution(summary_i[np.newaxis, :].astype(np.float32))\n",
        "  \n",
        "  samps = bijector.inverse(dist.sample(100000)).numpy()\n",
        "  cut = np.all(~np.isinf(samps), axis=-1)\n",
        "  samps = samps[cut,:]\n",
        "  norm = samps.shape[0]\n",
        "\n",
        "\n",
        "  #for each marginal\n",
        "  omegam_cdfs.append(np.sum(samps[:, 0] <= theta_i[0]) / norm) \n",
        "  sigma8_cdfs.append(np.sum(samps[:, 1] <= theta_i[1]) / norm)\n",
        "\n",
        "  #plt.hist(samps[:, 1])\n",
        "  #plt.axvline(theta_i[:, 1])\n",
        "  \n",
        "  "
      ]
    },
    {
      "cell_type": "code",
      "execution_count": 104,
      "id": "956a1f5c",
      "metadata": {},
      "outputs": [],
      "source": [
        "bins = 20\n",
        "nsamps = 2000\n",
        "\n",
        "uniform_layer = nsamps / bins\n",
        "std = np.sqrt(uniform_layer)"
      ]
    },
    {
      "cell_type": "code",
      "execution_count": 105,
      "id": "12c363bf",
      "metadata": {},
      "outputs": [
        {
          "data": {
            "text/plain": [
              "Text(0.5, 0, '$\\\\sigma_8$-PIT')"
            ]
          },
          "execution_count": 105,
          "metadata": {},
          "output_type": "execute_result"
        },
        {
          "data": {
            "image/png": "[encoded data removed]",
            "text/plain": [
              "<Figure size 432x288 with 2 Axes>"
            ]
          },
          "metadata": {
            "needs_background": "light"
          },
          "output_type": "display_data"
        }
      ],
      "source": [
        "plt.subplot(121)\n",
        "plt.hist(omegam_cdfs, bins=bins, density=False)\n",
        "plt.axhline(uniform_layer, color='k')\n",
        "plt.axhline(uniform_layer - std, color='k', ls=':')\n",
        "plt.axhline(uniform_layer + std, color='k', ls=':')\n",
        "\n",
        "plt.xlabel(r'$\\Omega_m$-PIT')\n",
        "\n",
        "plt.subplot(122)\n",
        "plt.hist(sigma8_cdfs, bins=bins, density=False)\n",
        "plt.axhline(uniform_layer, color='k')\n",
        "\n",
        "plt.axhline(uniform_layer - std, color='k', ls=':')\n",
        "plt.axhline(uniform_layer + std, color='k', ls=':')\n",
        "\n",
        "plt.xlabel(r'$\\sigma_8$-PIT')"
      ]
    },
    {
      "cell_type": "code",
      "execution_count": null,
      "id": "29d1e745",
      "metadata": {},
      "outputs": [],
      "source": []
    }
  ],
  "metadata": {
    "accelerator": "GPU",
    "colab": {
      "provenance": []
    },
    "gpuClass": "standard",
    "kernelspec": {
      "display_name": "Python 3",
      "language": "python",
      "name": "python3"
    },
    "language_info": {
      "codemirror_mode": {
        "name": "ipython",
        "version": 3
      },
      "file_extension": ".py",
      "mimetype": "text/x-python",
      "name": "python",
      "nbconvert_exporter": "python",
      "pygments_lexer": "ipython3",
      "version": "3.8.8"
    },
    "vscode": {
      "interpreter": {
        "hash": "40d3a090f54c6569ab1632332b64b2c03c39dcf918b08424e98f38b5ae0af88f"
      }
    }
  },
  "nbformat": 4,
  "nbformat_minor": 5
}
