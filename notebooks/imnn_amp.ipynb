{
 "cells": [
  {
   "cell_type": "code",
   "execution_count": 1,
   "metadata": {},
   "outputs": [
    {
     "name": "stdout",
     "output_type": "stream",
     "text": [
      "/home/makinen/repositories/alfi_lensing/imnn_scripts\n"
     ]
    }
   ],
   "source": [
    "cd /home/makinen/repositories/alfi_lensing/imnn_scripts/"
   ]
  },
  {
   "cell_type": "code",
   "execution_count": 2,
   "metadata": {},
   "outputs": [],
   "source": [
    "import cloudpickle as pickle\n",
    "import h5py as h5\n",
    "import jax\n",
    "import jax.numpy as jnp\n",
    "import optax\n",
    "import flax.linen as nn\n",
    "import matplotlib.pyplot as plt\n",
    "import numpy as onp\n",
    "\n",
    "from utils import rotate_sim\n",
    "from nets import *\n",
    "from imnn_mod import *\n",
    "\n",
    "import json\n",
    "import sys,os\n",
    "import gc"
   ]
  },
  {
   "cell_type": "code",
   "execution_count": 3,
   "metadata": {},
   "outputs": [
    {
     "name": "stdout",
     "output_type": "stream",
     "text": [
      "gpu\n"
     ]
    }
   ],
   "source": [
    "from jax.lib import xla_bridge\n",
    "print(xla_bridge.get_backend().platform)"
   ]
  },
  {
   "cell_type": "code",
   "execution_count": 5,
   "metadata": {},
   "outputs": [],
   "source": [
    "configs = {\n",
    "    \"datadir\": \"/data80/makinen/borg_sims_fixed/training_data/\",\n",
    "    \"savedir\": \"/data80/makinen/borg_sims_fixed/imnn_results/twoparam/retrain/\",\n",
    "    \"modeldir\": \"/data80/makinen/borg_sims_fixed/imnn_results/twoparam/\",\n",
    "    \"priordir\": \"/data80/makinen/borg_sims_fixed/prior_data/\",\n",
    "    \"target_path\": \"/data80/nporqueres/borg_sims_fixed/mock_data/\",\n",
    "    \"patience\": 2000,\n",
    "    \"filters\":  20,\n",
    "    \"plotdir\": \"/home/makinen/repositories/IMNN_vs_BORG/plots/\",\n",
    "    \"do_noise\": 1,\n",
    "    \"noise_scale\": 1,\n",
    "    \"net_scaling\": 0.005,\n",
    "    \"act\": \"almost_leaky\",\n",
    "\n",
    "    \"borg_data_configs\": { \n",
    "        \"fiducial_path\": \"/data80/nporqueres/borg_sims_fixed/fiducial/\",\n",
    "        \"omegaM_path\": \"/data80/nporqueres/borg_sims_fixed/omegaM/\",\n",
    "        \"sigma8_path\": \"/data80/nporqueres/borg_sims_fixed/sigma8/\",\n",
    "        \"prior_path\": \"/data80/nporqueres/borg_sims_fixed/new_uniform_prior/\",\n",
    "        \"omegaM_stepsize\": 0.05,\n",
    "        \"sigma8_stepsize\": 0.015\n",
    "    }\n",
    "}"
   ]
  },
  {
   "cell_type": "code",
   "execution_count": 8,
   "metadata": {},
   "outputs": [
    {
     "name": "stdout",
     "output_type": "stream",
     "text": [
      "loading data, do noise:  True\n"
     ]
    },
    {
     "name": "stderr",
     "output_type": "stream",
     "text": [
      "/home/makinen/.local/lib/python3.7/site-packages/jax/_src/random.py:399: FutureWarning: jax.random.shuffle is deprecated and will be removed in a future release. Use jax.random.permutation with independent=True.\n",
      "  warnings.warn(msg, FutureWarning)\n"
     ]
    },
    {
     "name": "stdout",
     "output_type": "stream",
     "text": [
      "split dervs shape (500, 6, 8, 64, 64)\n"
     ]
    },
    {
     "data": {
      "text/plain": [
       "((1000, 4, 64, 64, 2),\n",
       " (1000, 4, 64, 64, 2),\n",
       " (1500, 4, 64, 64, 2),\n",
       " (1500, 4, 64, 64, 2))"
      ]
     },
     "execution_count": 8,
     "metadata": {},
     "output_type": "execute_result"
    }
   ],
   "source": [
    "def save_obj(obj, name ):\n",
    "    with open(name + '.pkl', 'wb') as f:\n",
    "        pickle.dump(obj, f)\n",
    "        \n",
    "def load_obj(name):\n",
    "    with open(name, 'rb') as f:\n",
    "        return pickle.load(f)\n",
    "\n",
    "def reshape_data(dat):\n",
    "    realpart = dat[:, ::2, :, :]\n",
    "    impart = dat[:, 1::2, :, :]\n",
    "\n",
    "    return jnp.stack([realpart, impart], axis=-1)\n",
    "\n",
    "savedir    = configs[\"savedir\"]     # where to save shit\n",
    "datadir    = configs[\"datadir\"]     # where shit is saved\n",
    "modeldir   = configs[\"modeldir\"]\n",
    "priordir   = configs[\"priordir\"]\n",
    "do_noise   = bool(configs[\"do_noise\"])\n",
    "\n",
    "\n",
    "### ------------- LOAD ALL DATA -------------\n",
    "print(\"loading data, do noise: \", do_noise)\n",
    "key = jax.random.PRNGKey(33)\n",
    "key,rng = jax.random.split(key)\n",
    "\n",
    "fid = jnp.load(datadir + 'noisefree_fid.npy')\n",
    "val_fid = jnp.load(datadir + 'noisefree_val_fid.npy')\n",
    "dervs = jnp.load(datadir + 'noisefree_derv.npy')\n",
    "val_dervs = jnp.load(datadir + 'noisefree_val_derv.npy')\n",
    "\n",
    "# concatenate existing derivatives\n",
    "om_s8_dervs = onp.concatenate([dervs, val_dervs])\n",
    "\n",
    "\n",
    "\n",
    "# create a set of amplitude derivatives\n",
    "A = 1.0 # fiducial\n",
    "Aminus = 0.99\n",
    "Aplus = 1.01\n",
    "\n",
    "# take some fiducial simulations and change the amplitude\n",
    "Aplus = fid[:500]*Aplus\n",
    "Aminus = fid[:500]*Aminus\n",
    "\n",
    "# for h0; ordering: h0-, h0+, h0-, ...\n",
    "full_derivatives = onp.ones((3000, 8, 64, 64))\n",
    "\n",
    "# Om-\n",
    "full_derivatives[::6] = om_s8_dervs[0::4]\n",
    "# s8-\n",
    "full_derivatives[1::6] = om_s8_dervs[1::4]\n",
    "# A-\n",
    "full_derivatives[2::6] = Aminus\n",
    "\n",
    "# Om+\n",
    "full_derivatives[3::6] = om_s8_dervs[2::4]\n",
    "# s8+\n",
    "full_derivatives[4::6] = om_s8_dervs[3::4]\n",
    "# A+\n",
    "full_derivatives[5::6] = Aplus\n",
    "\n",
    "# do some random shuffling of the data\n",
    "# swap some sims around from train and validation\n",
    "fid1 = jnp.concatenate([val_fid, fid], axis=0)\n",
    "idx = jax.random.shuffle(key, jnp.arange(2000), axis=0)\n",
    "\n",
    "val_fid = jnp.array(fid1[idx[1000:]])\n",
    "fid = jnp.array(fid1[idx[:1000]]); del fid1\n",
    "\n",
    "# now derivatives\n",
    "dervs1 = full_derivatives\n",
    "\n",
    "# chunk into groups of 6 seed-matched groups: (om-,s8-,h0-,om+,s8+,h0+)\n",
    "dervs1 = jnp.array(jnp.split(dervs1, 500))\n",
    "print('split dervs shape', dervs1.shape)\n",
    "idx = jax.random.shuffle(rng, jnp.arange(500), axis=0) # new random seed index\n",
    "\n",
    "val_dervs = jnp.concatenate(dervs1[idx[:250]])\n",
    "dervs = jnp.concatenate(dervs1[idx[250:]]); del dervs1,full_derivatives\n",
    "\n",
    "fid = (reshape_data(fid))\n",
    "val_fid = (reshape_data(val_fid))\n",
    "dervs = (reshape_data(dervs))\n",
    "val_dervs = (reshape_data(val_dervs))\n",
    "\n",
    "fid.shape, val_fid.shape, dervs.shape, val_dervs.shape"
   ]
  },
  {
   "cell_type": "code",
   "execution_count": 9,
   "metadata": {},
   "outputs": [],
   "source": [
    "### ------------- IMNN PARAMETERS -------------\n",
    "θ_fid = jnp.array([0.3175, 0.800, 1.0]) # CHANGE TO OmegaM=0.6\n",
    "δθ = 2*jnp.array([0.05, 0.015, 0.01])\n",
    "\n",
    "θ_der = (θ_fid + jnp.einsum(\"i,jk->ijk\", jnp.array([-1., 1.]), jnp.diag(δθ) / 2.)).reshape((-1, 2))\n",
    "\n",
    "n_summaries = 3\n",
    "\n",
    "n_s = 1000\n",
    "n_d = 250\n",
    "\n",
    "n_params = 3\n",
    "n_summaries = n_params"
   ]
  },
  {
   "cell_type": "code",
   "execution_count": 10,
   "metadata": {},
   "outputs": [],
   "source": [
    "class InceptBlock3D(nn.Module):\n",
    "    \"\"\"Inception block submodule\"\"\"\n",
    "    filters: Sequence[int]\n",
    "    filters_reduce: Sequence[int]\n",
    "    strides: Union[None, int, Sequence[int]]\n",
    "    dims: int\n",
    "    do_5x5: bool = True\n",
    "    do_3x3: bool = True\n",
    "    #input_shape: Sequence[int]\n",
    "\n",
    "    @nn.compact\n",
    "    def __call__(self, x):\n",
    "\n",
    "        f_red = self.filters_reduce\n",
    "\n",
    "        outs = []\n",
    "        \n",
    "        if self.do_5x5:\n",
    "        # 5x5 filter\n",
    "         x1 = nn.Conv(features=f_red[0], kernel_size=(1,)*self.dims, strides=None)(x)\n",
    "         #x1 = nn.Conv(features=self.filters[0], kernel_size=(1,5,5), strides=None)(x1)\n",
    "         x1 = nn.Conv(features=self.filters[0], kernel_size=(3,5,5), strides=self.strides)(x1)\n",
    "         outs.append(x1)\n",
    "          \n",
    "        if self.do_3x3:\n",
    "        # 3x3 filter\n",
    "          x2 = nn.Conv(features=f_red[1], kernel_size=(1,)*self.dims, strides=None)(x)\n",
    "          x2 = nn.Conv(features=self.filters[1], kernel_size=(3,3,3), strides=self.strides)(x2)\n",
    "          #x2 = nn.Conv(features=self.filters[1], kernel_size=(1,3,3), strides=self.strides)(x2)\n",
    "          outs.append(x2)\n",
    "\n",
    "        # 1x1\n",
    "        #x3 = nn.Conv(features=f_red[2], kernel_size=(1,)*self.dims, strides=None)(x)\n",
    "        x3 = nn.Conv(features=self.filters[2], kernel_size=(3,)*self.dims, strides=self.strides)(x)\n",
    "        outs.append(x3)\n",
    "        \n",
    "        # maxpool and avgpool\n",
    "        x4 = nn.max_pool(x, (3,)*self.dims, padding='SAME', strides=self.strides)\n",
    "        #x4 = nn.Conv(features=self.filters[3], kernel_size=(1,)*self.dims, strides=self.strides)(x4)\n",
    "        outs.append(x4)\n",
    "                    \n",
    "        x = jnp.concatenate(outs, axis=-1)\n",
    "        \n",
    "        return x    "
   ]
  },
  {
   "cell_type": "code",
   "execution_count": 17,
   "metadata": {},
   "outputs": [],
   "source": [
    "class CNN3D(nn.Module):\n",
    "    \"\"\"An incept net architecture\"\"\"\n",
    "    filters: Sequence[int] = (10,10,10,10) #(5,5,5,5) #(2,2,2,2)\n",
    "    filters_reduce: Sequence[int] = (3, 3, 3, 3)\n",
    "    div_factor: float = 0.005\n",
    "    out_shape: int = 2\n",
    "    do_big_convs: bool = True\n",
    "    act: str = \"gelu\"\n",
    "    \n",
    "    @nn.compact\n",
    "    def __call__(self, x):\n",
    "        fs = self.filters\n",
    "        fs_red = self.filters_reduce\n",
    "        dbg = self.do_big_convs\n",
    "        if self.act == \"almost_leaky\":\n",
    "           act = almost_leaky\n",
    "        else:\n",
    "           act = nn.gelu\n",
    "\n",
    "        x /= self.div_factor\n",
    "        x = InceptBlock3D(fs, fs_red, strides=(1,2,2), dims=3, do_5x5=True)(x) # out: 4, 32, 32, 2\n",
    "        x = act(x)\n",
    "        #fs *= 2\n",
    "        x = InceptBlock3D(fs, fs_red, strides=(1,2,2), dims=3, do_5x5=False)(x) # out: 4, 16, 16, 2\n",
    "        x = act(x)\n",
    "        #fs *= 4\n",
    "        x = InceptBlock3D(fs, fs_red, strides=(1,2,2), dims=3, do_5x5=False)(x) # out: 4, 8, 8, 2\n",
    "        x = act(x)\n",
    "        #fs *= 2\n",
    "        x = InceptBlock3D(fs, fs_red,  strides=(1,2,2), dims=3, do_5x5=False)(x) # out: 4, 4, 4, 2\n",
    "        x = act(x)\n",
    "        #fs *= 4\n",
    "        x = InceptBlock3D(fs, fs_red,  strides=(2,2,2), dims=3, do_5x5=False)(x) # out: 1, 1, 1, 2\n",
    "        x = act(x)\n",
    "        #fs *= 2\n",
    "        x = InceptBlock3D(fs, fs_red,  strides=(2,2,2), dims=3, do_5x5=False, do_3x3=False)(x) # out: 1, 1, 1, 2\n",
    "        x = act(x)\n",
    "        x = nn.Conv(self.out_shape, (1,)*3, 1)(x)\n",
    "        x = x.reshape(-1)\n",
    "        \n",
    "        return x"
   ]
  },
  {
   "cell_type": "code",
   "execution_count": 20,
   "metadata": {},
   "outputs": [
    {
     "data": {
      "text/plain": [
       "16.0"
      ]
     },
     "execution_count": 20,
     "metadata": {},
     "output_type": "execute_result"
    }
   ],
   "source": [
    "64 / 4"
   ]
  },
  {
   "cell_type": "code",
   "execution_count": 27,
   "metadata": {},
   "outputs": [],
   "source": [
    "### ------------- NEURAL NETWORK MODEL -------------\n",
    "\n",
    "filters = (int(configs[\"filters\"]),)*4\n",
    "#filters_reduce = configs[\"filters_reduce\"] #(int(configs[\"filters_reduce\"]),)*4\n",
    "net_scaling = float(configs[\"net_scaling\"])\n",
    "patience = configs[\"patience\"]\n",
    "noise_scale = configs[\"noise_scale\"]\n",
    "act = configs[\"act\"]\n",
    "\n",
    "if not do_noise:\n",
    "    net_scaling /= 10.\n",
    "else:\n",
    "    net_scaling *= noise_scale\n",
    "\n",
    "    \n",
    "model = CNN3D(filters=filters,\n",
    "                 div_factor=net_scaling, out_shape=3, act=act)\n",
    "key = jax.random.PRNGKey(42)\n",
    "\n",
    "input_shape = (4, 64, 64, 2)\n",
    "\n",
    "### ------------- DEFINE DATA AUGMENTATION SCHEME -------------\n",
    "### ADD IN NOISE ON TOP OF FIELD SIMS\n",
    "### NOISE VARIANCES == SIGMA^2\n",
    "\n",
    "#if do_noise:\n",
    "noise_variances = jnp.array([1.79560224e-06, 5.44858988e-06, 9.45448781e-06, 1.32736252e-05])"
   ]
  },
  {
   "cell_type": "code",
   "execution_count": 28,
   "metadata": {},
   "outputs": [
    {
     "data": {
      "text/plain": [
       "(1000, 3)"
      ]
     },
     "execution_count": 28,
     "metadata": {},
     "output_type": "execute_result"
    }
   ],
   "source": [
    "w = model.init(key, jnp.ones((4,64,64,2)))\n",
    "\n",
    "_app = lambda d: model.apply(w, d)\n",
    "\n",
    "jax.vmap(_app)(fid).shape"
   ]
  },
  {
   "cell_type": "code",
   "execution_count": null,
   "metadata": {},
   "outputs": [],
   "source": []
  },
  {
   "cell_type": "code",
   "execution_count": 22,
   "metadata": {},
   "outputs": [],
   "source": [
    "#@jax.jit\n",
    "def noise_simulator(key, sim):\n",
    "    key1,key2 = jax.random.split(key)\n",
    "    # do rotations of simulations\n",
    "    k = jax.random.choice(key1, jnp.array([0,1,2,3]), shape=())\n",
    "    sim = rotate_sim(k, sim)\n",
    "\n",
    "    # now add noise\n",
    "    # this generates white noise across all pixels and then increases the amplitude\n",
    "    # add zero noise for no-noise case\n",
    "    sim += (jax.random.normal(key2, shape=(4,64,64,2)) * noise_scale * jnp.sqrt(noise_variances).reshape(4,1,1,1))\n",
    "    return sim"
   ]
  },
  {
   "cell_type": "code",
   "execution_count": 23,
   "metadata": {},
   "outputs": [],
   "source": [
    "#### ------------- SET UP IMNN -------------\n",
    "\n",
    "optimiser = optax.adam(learning_rate=1e-4)\n",
    "\n",
    "model_key = jax.random.PRNGKey(42)\n",
    "rng, key = jax.random.split(key)"
   ]
  },
  {
   "cell_type": "code",
   "execution_count": 26,
   "metadata": {},
   "outputs": [
    {
     "data": {
      "text/plain": [
       "3"
      ]
     },
     "execution_count": 26,
     "metadata": {},
     "output_type": "execute_result"
    }
   ],
   "source": [
    "n_params"
   ]
  },
  {
   "cell_type": "code",
   "execution_count": 29,
   "metadata": {},
   "outputs": [],
   "source": [
    "IMNN = NoiseNumericalGradientIMNN(\n",
    "    n_s=n_s, n_d=n_d, n_params=n_params, n_summaries=n_summaries,\n",
    "    input_shape=(4, 64, 64, 2), θ_fid=θ_fid, δθ=δθ, model=model,\n",
    "    optimiser=optimiser, key_or_state=jnp.array(model_key),\n",
    "    noise_simulator=(lambda rng, d: noise_simulator(\n",
    "            rng, d)),\n",
    "    fiducial=fid, \n",
    "    derivative=dervs.reshape(n_d, 2, n_params, 4, 64, 64, 2),\n",
    "    validation_fiducial=val_fid,\n",
    "    validation_derivative=val_dervs.reshape(n_d, 2, n_params, 4, 64, 64, 2),\n",
    "    dummy_graph_input=None,  # dummy graph input\n",
    "    no_invC=False,\n",
    "    do_reg=True,\n",
    "    evidence=False)"
   ]
  },
  {
   "cell_type": "code",
   "execution_count": 15,
   "metadata": {},
   "outputs": [
    {
     "name": "stdout",
     "output_type": "stream",
     "text": [
      "Exception reporting mode: Verbose\n"
     ]
    }
   ],
   "source": [
    "%xmode verbose"
   ]
  },
  {
   "cell_type": "code",
   "execution_count": 30,
   "metadata": {},
   "outputs": [],
   "source": [
    "## ------------- TRAIN THE IMNN -------------\n",
    "np=jnp\n",
    "\n",
    "gc.collect()\n",
    "key,rng = jax.random.split(key)\n",
    "\n",
    "IMNN.fit(10.0, 0.1, γ=1.0, rng=jnp.array(rng), patience=100, min_iterations=2000)"
   ]
  },
  {
   "cell_type": "code",
   "execution_count": 21,
   "metadata": {},
   "outputs": [],
   "source": [
    "IMNN.F"
   ]
  },
  {
   "cell_type": "code",
   "execution_count": null,
   "metadata": {},
   "outputs": [],
   "source": [
    "\n",
    "\n",
    "\n",
    "print('final IMNN F: ', IMNN.F)\n",
    "print('final IMNN det F: ', jnp.linalg.det(IMNN.F))\n",
    "\n",
    "save_obj(IMNN.w, savedir + 'IMNN_w')\n",
    "jnp.save(savedir + \"IMNN_F\", IMNN.F)\n",
    "# convert history dict to onp arrays\n",
    "history = IMNN.history\n",
    "for k in history.keys():\n",
    "  history[k] = onp.array(history[k])\n",
    "\n",
    "save_obj(history, savedir + 'IMNN_history')\n",
    "\n",
    "### ------------- PASS PRIOR DATA THROUGH IMNN FUNNEL -------------\n",
    "np = jnp\n",
    "#dat = jnp.load(\"/data80/makinen/borg_sims_fixed/uniform_prior_sims/noisefree_prior_sims.npy\")\n",
    "#params = jnp.load(\"/data80/makinen/borg_sims_fixed/uniform_prior_sims/noisefree_prior_params.npy\")\n",
    "dat = jnp.load(priordir + \"prior_sims_noisefree.npy\")\n",
    "params = jnp.load(priordir + \"prior_params.npy\")\n",
    "\n",
    "\n",
    "dat = reshape_data(dat)[:, :, :, :, :]\n",
    "\n",
    "# ADD NOISE TO DATA\n",
    "noisekey = jax.random.PRNGKey(11)\n",
    "noisekeys = jax.random.split(noisekey, num=dat.shape[0])\n",
    "dat = jax.vmap(noise_simulator)(noisekeys, dat)\n",
    "\n",
    "x1 = IMNN.get_estimate(dat[:2500])\n",
    "x2 = IMNN.get_estimate(dat[2500:])\n",
    "x = jnp.concatenate([x1,x2])\n",
    "\n",
    "x1 = IMNN.get_estimate(dat[:2500])\n",
    "x2 = IMNN.get_estimate(dat[2500:])\n",
    "x = jnp.concatenate([x1,x2])\n",
    "\n",
    "\n",
    "# save the prior sims' mapping\n",
    "jnp.save(savedir + \"x_imnn.npy\", x)\n",
    "jnp.save(savedir + \"theta.npy\", params)\n",
    "\n",
    "\n",
    "#### ------------- get Natalia's target data WITH NOISE -------------\n",
    "print(\"loading mock data for obtaining estimates\")\n",
    "\n",
    "import numpy as onp\n",
    "np = onp\n",
    "import h5py as h5\n",
    "\n",
    "def get_data(Ncat,N0,N1,f):\n",
    "    dataR = onp.zeros((Ncat,N0,N1))\n",
    "    dataI = onp.zeros((Ncat,N0,N1))\n",
    "    \n",
    "    for cat in range(0,Ncat,1):\n",
    "        survey = f['lensing_catalog_'+str(cat)]['lensing_data']['lensing'][:]\n",
    "        Nobs = len(survey)\n",
    "        N0 = f['scalars/N0'][0]\n",
    "        N1 = f['scalars/N1'][0]\n",
    "        \n",
    "        count = np.zeros((N0,N1))\n",
    "        for nobs in range(0,Nobs,1):\n",
    "            lens = survey[nobs]\n",
    "            n0 = int(lens['phi'])\n",
    "            n1 = int(lens['theta'])\n",
    "            dataR[cat,n0,n1] = lens['shearR']\n",
    "            dataI[cat,n0,n1] = lens['shearI']\n",
    "            count[n0,n1] += 1\n",
    "    return dataR, dataI\n",
    "\n",
    "\n",
    "#path = '/data80/nporqueres/borg_sims_fixed/'\n",
    "\n",
    "path = configs[\"target_path\"]\n",
    "f = h5.File(path + 'mock_data.h5', 'r')\n",
    "\n",
    "Ncat = f['scalars/NCAT'][0]\n",
    "\n",
    "N0 = f['scalars/N0'][0]\n",
    "N1 = f['scalars/N1'][0]\n",
    "N2 = f['scalars/N2'][0]\n",
    "\n",
    "L0 = f['scalars/L0'][0]\n",
    "L1 = f['scalars/L1'][0]\n",
    "L2 = f['scalars/L2'][0]\n",
    "\n",
    "targetR, targetI = get_data(Ncat, N0, N1, f)\n",
    "\n",
    "_dat = onp.ones((8, 64, 64))\n",
    "_dat[::2, :, :] = targetR\n",
    "_dat[1::2, :, :] = targetI\n",
    "\n",
    "np=jnp\n",
    "_dat = jnp.array(_dat)\n",
    "target_data = jnp.squeeze(reshape_data(_dat[jnp.newaxis, :, :, :]))\n",
    "\n",
    "estimates = IMNN.get_estimate(jnp.expand_dims(target_data, 0))\n",
    "\n",
    "print('IMNN estimates for target sim', estimates)\n",
    "\n",
    "jnp.save(savedir + 'estimates', estimates)\n"
   ]
  }
 ],
 "metadata": {
  "kernelspec": {
   "display_name": "Python 3",
   "language": "python",
   "name": "python3"
  },
  "language_info": {
   "codemirror_mode": {
    "name": "ipython",
    "version": 3
   },
   "file_extension": ".py",
   "mimetype": "text/x-python",
   "name": "python",
   "nbconvert_exporter": "python",
   "pygments_lexer": "ipython3",
   "version": "3.7.7"
  }
 },
 "nbformat": 4,
 "nbformat_minor": 4
}
