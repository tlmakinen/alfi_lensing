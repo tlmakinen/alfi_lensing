{
 "cells": [
  {
   "cell_type": "code",
   "execution_count": 1,
   "metadata": {},
   "outputs": [
    {
     "name": "stdout",
     "output_type": "stream",
     "text": [
      "/home/makinen/repositories/IMNN_vs_BORG\n"
     ]
    }
   ],
   "source": [
    "cd /home/makinen/repositories/IMNN_vs_BORG/"
   ]
  },
  {
   "cell_type": "code",
   "execution_count": 2,
   "metadata": {},
   "outputs": [],
   "source": [
    "import h5py\n",
    "import jax\n",
    "import jax.numpy as jnp\n",
    "import optax\n",
    "\n",
    "import flax.linen as nn\n",
    "import numpy as np\n",
    "\n",
    "import matplotlib.pyplot as plt\n",
    "\n",
    "#from chainconsumer import ChainConsumer\n",
    "\n",
    "import cloudpickle as pickle\n",
    "import json\n",
    "\n",
    "from nets import *\n",
    "from imnn_mod import *\n",
    "from utils import rotate_sim\n",
    "\n",
    "def save_obj(obj, name ):\n",
    "    with open(name + '.pkl', 'wb') as f:\n",
    "        pickle.dump(obj, f)\n",
    "        \n",
    "def load_obj(name):\n",
    "    with open(name, 'rb') as f:\n",
    "        return pickle.load(f)\n",
    "\n",
    "def reshape_data(dat):\n",
    "    realpart = dat[:, ::2, :, :]\n",
    "    impart = dat[:, 1::2, :, :]\n",
    "\n",
    "    return jnp.stack([realpart, impart], axis=-1)"
   ]
  },
  {
   "cell_type": "code",
   "execution_count": 3,
   "metadata": {},
   "outputs": [],
   "source": [
    "config_path = \"/data80/makinen/borg_sims_fixed/imnn_runs/two_param3/retrain2/configs.json\"\n",
    "with open(config_path) as f:\n",
    "        configs = json.load(f)\n",
    "\n",
    "savedir    = configs[\"savedir\"]     # where to save shit\n",
    "datadir    = configs[\"datadir\"]     # where shit is saved\n",
    "modeldir   = configs[\"modeldir\"]\n",
    "priordir   = configs[\"priordir\"]\n",
    "do_noise   = bool(configs[\"do_noise\"])"
   ]
  },
  {
   "cell_type": "code",
   "execution_count": 4,
   "metadata": {},
   "outputs": [],
   "source": [
    "### ------------- IMNN PARAMETERS -------------\n",
    "θ_fid = jnp.array([0.3175, 0.800]) # CHANGE TO OmegaM=0.6\n",
    "δθ = 2*jnp.array([0.05, 0.015])\n",
    "\n",
    "θ_der = (θ_fid + jnp.einsum(\"i,jk->ijk\", jnp.array([-1., 1.]), jnp.diag(δθ) / 2.)).reshape((-1, 2))\n",
    "\n",
    "n_summaries = 2\n",
    "\n",
    "n_s = 1000\n",
    "n_d = 250\n",
    "\n",
    "n_params = 2\n",
    "n_summaries = n_params"
   ]
  },
  {
   "cell_type": "code",
   "execution_count": 22,
   "metadata": {},
   "outputs": [],
   "source": [
    "\n",
    "### ------------- NEURAL NETWORK MODEL -------------\n",
    "\n",
    "filters = (int(configs[\"filters\"]),)*4\n",
    "net_scaling = float(configs[\"net_scaling\"])\n",
    "patience = configs[\"patience\"]\n",
    "noise_scale = configs[\"noise_scale\"]\n",
    "act = \"almost_leaky\" #configs[\"act\"]\n",
    "\n",
    "if not do_noise:\n",
    "    net_scaling /= 10.\n",
    "else:\n",
    "    net_scaling *= noise_scale\n",
    "\n",
    "\n",
    "\n",
    "model = CNNRes3D(filters=filters, div_factor=net_scaling, out_shape=2, act=act)\n",
    "key = jax.random.PRNGKey(42)\n",
    "\n",
    "input_shape = (4, 64, 64, 2)\n",
    "\n",
    "### ------------- DEFINE DATA AUGMENTATION SCHEME -------------\n",
    "### ADD IN NOISE ON TOP OF FIELD SIMS\n",
    "### NOISE VARIANCES == SIGMA^2\n",
    "\n",
    "#if do_noise:\n",
    "noise_variances = jnp.array([1.79560224e-06, 5.44858988e-06, 9.45448781e-06, 1.32736252e-05])\n",
    "    \n",
    "#else:\n",
    "#    noise_variances = jnp.array([0., 0., 0., 0.])\n",
    "\n",
    "@jax.jit\n",
    "def noise_simulator(key, sim):\n",
    "    key1,key2 = jax.random.split(key)\n",
    "    # do rotations of simulations\n",
    "    k = jax.random.choice(key1, jnp.array([0,1,2,3]), shape=())\n",
    "    sim = rotate_sim(k, sim)\n",
    "\n",
    "    # now add noise\n",
    "    # this generates white noise across all pixels and then increases the amplitude\n",
    "    # add zero noise for no-noise case\n",
    "    sim += (jax.random.normal(key2, shape=(4,64,64,2)) * noise_scale * jnp.sqrt(noise_variances).reshape(4,1,1,1))\n",
    "    return sim\n",
    "\n",
    "\n",
    "#### ------------- SET UP IMNN -------------\n",
    "\n",
    "optimiser = optax.adam(learning_rate=1e-4)\n",
    "\n",
    "model_key = jax.random.PRNGKey(42)\n",
    "rng, key = jax.random.split(key)\n",
    "\n",
    "shape = (4, 64, 64, 2)\n",
    "\n",
    "w = model.init(model_key, jax.random.normal(key, shape=shape))"
   ]
  },
  {
   "cell_type": "code",
   "execution_count": 23,
   "metadata": {},
   "outputs": [
    {
     "data": {
      "text/plain": [
       "(2,)"
      ]
     },
     "execution_count": 23,
     "metadata": {},
     "output_type": "execute_result"
    }
   ],
   "source": [
    "output = model.apply(w, jax.random.normal(key, shape=shape))\n",
    "output.shape"
   ]
  },
  {
   "cell_type": "code",
   "execution_count": 24,
   "metadata": {},
   "outputs": [],
   "source": [
    "np = jnp"
   ]
  },
  {
   "cell_type": "code",
   "execution_count": 25,
   "metadata": {},
   "outputs": [],
   "source": [
    "# now do regression over prior with IMNN weights to hone in on OmegaM\n",
    "\n",
    "X = jnp.load(priordir + \"prior_sims_noisefree.npy\")\n",
    "y = jnp.load(priordir + \"prior_params.npy\")\n",
    "\n",
    "\n",
    "X = reshape_data(X)[:, :, :, :, :]\n",
    "#x = np.load(\"/data80/makinen/borg_sims/x_imnn.npy\")\n",
    "#estimates = np.array([[0.34354842, 0.7942477 ]])"
   ]
  },
  {
   "cell_type": "code",
   "execution_count": 26,
   "metadata": {},
   "outputs": [],
   "source": [
    "from sklearn.model_selection import train_test_split\n",
    "\n",
    "Xt = jax.device_put(X)\n",
    "yt = jax.device_put(y)\n",
    "X_train, X_test, y_train, y_test = train_test_split(Xt, yt, random_state=0, test_size=250)\n",
    "\n",
    "keys = jax.random.split(jax.random.PRNGKey(88), num=X_test.shape[0])\n",
    "X_test = jax.vmap(noise_simulator)(keys, X_test)"
   ]
  },
  {
   "cell_type": "code",
   "execution_count": 27,
   "metadata": {},
   "outputs": [],
   "source": [
    "# initialize stuff\n",
    "\n",
    "def mynet(w, d):\n",
    "    \"\"\"function to set weights and use get_estimate function for regression\"\"\"\n",
    "    #IMNN.set_F_statistics(w, key=key)\n",
    "    return model.apply(w, d)  #"
   ]
  },
  {
   "cell_type": "code",
   "execution_count": 28,
   "metadata": {},
   "outputs": [],
   "source": [
    "@jax.jit\n",
    "def mse(w, x_batched, y_batched):\n",
    "  # Define the squared loss for a single pair (x,y)\n",
    "  def squared_error(x, y):\n",
    "    pred = mynet(w, x)\n",
    "    return jnp.log(jnp.inner(y-pred, y-pred) / 2.0)\n",
    "  # Vectorize the previous to compute the average of the loss on all samples.\n",
    "  return (jnp.mean(jax.vmap(squared_error)(x_batched,y_batched), axis=0))"
   ]
  },
  {
   "cell_type": "code",
   "execution_count": 29,
   "metadata": {},
   "outputs": [],
   "source": [
    "from tqdm import tqdm\n",
    "import optax\n",
    "\n",
    "tx = optax.adam(learning_rate=1e-3)\n",
    "opt_state = tx.init(w)\n",
    "loss_grad_fn = jax.value_and_grad(mse)\n",
    "\n",
    "batch_size = 250\n",
    "epochs = 100\n",
    "\n",
    "losses = []\n",
    "val_losses = []\n",
    "\n",
    "key = jax.random.PRNGKey(99)"
   ]
  },
  {
   "cell_type": "code",
   "execution_count": 51,
   "metadata": {},
   "outputs": [],
   "source": [
    "tx = optax.adam(learning_rate=5e-5)\n",
    "opt_state = tx.init(w)\n",
    "loss_grad_fn = jax.value_and_grad(mse)"
   ]
  },
  {
   "cell_type": "code",
   "execution_count": 59,
   "metadata": {},
   "outputs": [
    {
     "name": "stderr",
     "output_type": "stream",
     "text": [
      "epoch loss 12: -4.9453, val loss: -4.9986:  13%|█▎        | 13/100 [03:21<22:29, 15.51s/it]"
     ]
    },
    {
     "ename": "KeyboardInterrupt",
     "evalue": "",
     "output_type": "error",
     "traceback": [
      "\u001b[0;31m---------------------------------------------------------------------------\u001b[0m",
      "\u001b[0;31mKeyboardInterrupt\u001b[0m                         Traceback (most recent call last)",
      "\u001b[0;32m<ipython-input-59-f220080ba700>\u001b[0m in \u001b[0;36m<module>\u001b[0;34m\u001b[0m\n\u001b[1;32m     12\u001b[0m \u001b[0;34m\u001b[0m\u001b[0m\n\u001b[1;32m     13\u001b[0m     \u001b[0mloss_val\u001b[0m\u001b[0;34m,\u001b[0m \u001b[0mgrads\u001b[0m \u001b[0;34m=\u001b[0m \u001b[0mloss_grad_fn\u001b[0m\u001b[0;34m(\u001b[0m\u001b[0mw\u001b[0m\u001b[0;34m,\u001b[0m \u001b[0mx_samples\u001b[0m\u001b[0;34m,\u001b[0m \u001b[0my_samples\u001b[0m\u001b[0;34m)\u001b[0m\u001b[0;34m\u001b[0m\u001b[0;34m\u001b[0m\u001b[0m\n\u001b[0;32m---> 14\u001b[0;31m     \u001b[0mupdates\u001b[0m\u001b[0;34m,\u001b[0m \u001b[0mopt_state\u001b[0m \u001b[0;34m=\u001b[0m \u001b[0mtx\u001b[0m\u001b[0;34m.\u001b[0m\u001b[0mupdate\u001b[0m\u001b[0;34m(\u001b[0m\u001b[0mgrads\u001b[0m\u001b[0;34m,\u001b[0m \u001b[0mopt_state\u001b[0m\u001b[0;34m)\u001b[0m\u001b[0;34m\u001b[0m\u001b[0;34m\u001b[0m\u001b[0m\n\u001b[0m\u001b[1;32m     15\u001b[0m     \u001b[0mw\u001b[0m \u001b[0;34m=\u001b[0m \u001b[0moptax\u001b[0m\u001b[0;34m.\u001b[0m\u001b[0mapply_updates\u001b[0m\u001b[0;34m(\u001b[0m\u001b[0mw\u001b[0m\u001b[0;34m,\u001b[0m \u001b[0mupdates\u001b[0m\u001b[0;34m)\u001b[0m\u001b[0;34m\u001b[0m\u001b[0;34m\u001b[0m\u001b[0m\n\u001b[1;32m     16\u001b[0m     \u001b[0;32mif\u001b[0m \u001b[0mi\u001b[0m \u001b[0;34m%\u001b[0m \u001b[0;36m10\u001b[0m \u001b[0;34m==\u001b[0m \u001b[0;36m0\u001b[0m\u001b[0;34m:\u001b[0m\u001b[0;34m\u001b[0m\u001b[0;34m\u001b[0m\u001b[0m\n",
      "\u001b[0;32m/data80/makinen/venvs/testjax/lib/python3.7/site-packages/optax/_src/combine.py\u001b[0m in \u001b[0;36mupdate_fn\u001b[0;34m(updates, state, params)\u001b[0m\n\u001b[1;32m     52\u001b[0m     \u001b[0mnew_state\u001b[0m \u001b[0;34m=\u001b[0m \u001b[0;34m[\u001b[0m\u001b[0;34m]\u001b[0m\u001b[0;34m\u001b[0m\u001b[0;34m\u001b[0m\u001b[0m\n\u001b[1;32m     53\u001b[0m     \u001b[0;32mfor\u001b[0m \u001b[0ms\u001b[0m\u001b[0;34m,\u001b[0m \u001b[0mfn\u001b[0m \u001b[0;32min\u001b[0m \u001b[0mzip\u001b[0m\u001b[0;34m(\u001b[0m\u001b[0mstate\u001b[0m\u001b[0;34m,\u001b[0m \u001b[0mupdate_fns\u001b[0m\u001b[0;34m)\u001b[0m\u001b[0;34m:\u001b[0m\u001b[0;34m\u001b[0m\u001b[0;34m\u001b[0m\u001b[0m\n\u001b[0;32m---> 54\u001b[0;31m       \u001b[0mupdates\u001b[0m\u001b[0;34m,\u001b[0m \u001b[0mnew_s\u001b[0m \u001b[0;34m=\u001b[0m \u001b[0mfn\u001b[0m\u001b[0;34m(\u001b[0m\u001b[0mupdates\u001b[0m\u001b[0;34m,\u001b[0m \u001b[0ms\u001b[0m\u001b[0;34m,\u001b[0m \u001b[0mparams\u001b[0m\u001b[0;34m)\u001b[0m\u001b[0;34m\u001b[0m\u001b[0;34m\u001b[0m\u001b[0m\n\u001b[0m\u001b[1;32m     55\u001b[0m       \u001b[0mnew_state\u001b[0m\u001b[0;34m.\u001b[0m\u001b[0mappend\u001b[0m\u001b[0;34m(\u001b[0m\u001b[0mnew_s\u001b[0m\u001b[0;34m)\u001b[0m\u001b[0;34m\u001b[0m\u001b[0;34m\u001b[0m\u001b[0m\n\u001b[1;32m     56\u001b[0m     \u001b[0;32mreturn\u001b[0m \u001b[0mupdates\u001b[0m\u001b[0;34m,\u001b[0m \u001b[0mtuple\u001b[0m\u001b[0;34m(\u001b[0m\u001b[0mnew_state\u001b[0m\u001b[0;34m)\u001b[0m\u001b[0;34m\u001b[0m\u001b[0;34m\u001b[0m\u001b[0m\n",
      "\u001b[0;32m/data80/makinen/venvs/testjax/lib/python3.7/site-packages/optax/_src/transform.py\u001b[0m in \u001b[0;36mupdate_fn\u001b[0;34m(***failed resolving arguments***)\u001b[0m\n\u001b[1;32m    340\u001b[0m   \u001b[0;32mdef\u001b[0m \u001b[0mupdate_fn\u001b[0m\u001b[0;34m(\u001b[0m\u001b[0mupdates\u001b[0m\u001b[0;34m,\u001b[0m \u001b[0mstate\u001b[0m\u001b[0;34m,\u001b[0m \u001b[0mparams\u001b[0m\u001b[0;34m=\u001b[0m\u001b[0;32mNone\u001b[0m\u001b[0;34m)\u001b[0m\u001b[0;34m:\u001b[0m\u001b[0;34m\u001b[0m\u001b[0;34m\u001b[0m\u001b[0m\n\u001b[1;32m    341\u001b[0m     \u001b[0;32mdel\u001b[0m \u001b[0mparams\u001b[0m\u001b[0;34m\u001b[0m\u001b[0;34m\u001b[0m\u001b[0m\n\u001b[0;32m--> 342\u001b[0;31m     \u001b[0mmu\u001b[0m \u001b[0;34m=\u001b[0m \u001b[0mupdate_moment\u001b[0m\u001b[0;34m(\u001b[0m\u001b[0mupdates\u001b[0m\u001b[0;34m,\u001b[0m \u001b[0mstate\u001b[0m\u001b[0;34m.\u001b[0m\u001b[0mmu\u001b[0m\u001b[0;34m,\u001b[0m \u001b[0mb1\u001b[0m\u001b[0;34m,\u001b[0m \u001b[0;36m1\u001b[0m\u001b[0;34m)\u001b[0m\u001b[0;34m\u001b[0m\u001b[0;34m\u001b[0m\u001b[0m\n\u001b[0m\u001b[1;32m    343\u001b[0m     \u001b[0mnu\u001b[0m \u001b[0;34m=\u001b[0m \u001b[0mupdate_moment_per_elem_norm\u001b[0m\u001b[0;34m(\u001b[0m\u001b[0mupdates\u001b[0m\u001b[0;34m,\u001b[0m \u001b[0mstate\u001b[0m\u001b[0;34m.\u001b[0m\u001b[0mnu\u001b[0m\u001b[0;34m,\u001b[0m \u001b[0mb2\u001b[0m\u001b[0;34m,\u001b[0m \u001b[0;36m2\u001b[0m\u001b[0;34m)\u001b[0m\u001b[0;34m\u001b[0m\u001b[0;34m\u001b[0m\u001b[0m\n\u001b[1;32m    344\u001b[0m     \u001b[0mcount_inc\u001b[0m \u001b[0;34m=\u001b[0m \u001b[0mnumerics\u001b[0m\u001b[0;34m.\u001b[0m\u001b[0msafe_int32_increment\u001b[0m\u001b[0;34m(\u001b[0m\u001b[0mstate\u001b[0m\u001b[0;34m.\u001b[0m\u001b[0mcount\u001b[0m\u001b[0;34m)\u001b[0m\u001b[0;34m\u001b[0m\u001b[0;34m\u001b[0m\u001b[0m\n",
      "\u001b[0;32m/data80/makinen/venvs/testjax/lib/python3.7/site-packages/optax/_src/transform.py\u001b[0m in \u001b[0;36mupdate_moment\u001b[0;34m(updates, moments, decay, order)\u001b[0m\n\u001b[1;32m     82\u001b[0m   \u001b[0;34m\"\"\"Compute the exponential moving average of the `order`-th moment.\"\"\"\u001b[0m\u001b[0;34m\u001b[0m\u001b[0;34m\u001b[0m\u001b[0m\n\u001b[1;32m     83\u001b[0m   return jax.tree_util.tree_map(\n\u001b[0;32m---> 84\u001b[0;31m       lambda g, t: (1 - decay) * (g ** order) + decay * t, updates, moments)\n\u001b[0m\u001b[1;32m     85\u001b[0m \u001b[0;34m\u001b[0m\u001b[0m\n\u001b[1;32m     86\u001b[0m \u001b[0;34m\u001b[0m\u001b[0m\n",
      "\u001b[0;32m~/.local/lib/python3.7/site-packages/jax/_src/tree_util.py\u001b[0m in \u001b[0;36mtree_map\u001b[0;34m(f, tree, is_leaf, *rest)\u001b[0m\n\u001b[1;32m    205\u001b[0m   \u001b[0mleaves\u001b[0m\u001b[0;34m,\u001b[0m \u001b[0mtreedef\u001b[0m \u001b[0;34m=\u001b[0m \u001b[0mtree_flatten\u001b[0m\u001b[0;34m(\u001b[0m\u001b[0mtree\u001b[0m\u001b[0;34m,\u001b[0m \u001b[0mis_leaf\u001b[0m\u001b[0;34m)\u001b[0m\u001b[0;34m\u001b[0m\u001b[0;34m\u001b[0m\u001b[0m\n\u001b[1;32m    206\u001b[0m   \u001b[0mall_leaves\u001b[0m \u001b[0;34m=\u001b[0m \u001b[0;34m[\u001b[0m\u001b[0mleaves\u001b[0m\u001b[0;34m]\u001b[0m \u001b[0;34m+\u001b[0m \u001b[0;34m[\u001b[0m\u001b[0mtreedef\u001b[0m\u001b[0;34m.\u001b[0m\u001b[0mflatten_up_to\u001b[0m\u001b[0;34m(\u001b[0m\u001b[0mr\u001b[0m\u001b[0;34m)\u001b[0m \u001b[0;32mfor\u001b[0m \u001b[0mr\u001b[0m \u001b[0;32min\u001b[0m \u001b[0mrest\u001b[0m\u001b[0;34m]\u001b[0m\u001b[0;34m\u001b[0m\u001b[0;34m\u001b[0m\u001b[0m\n\u001b[0;32m--> 207\u001b[0;31m   \u001b[0;32mreturn\u001b[0m \u001b[0mtreedef\u001b[0m\u001b[0;34m.\u001b[0m\u001b[0munflatten\u001b[0m\u001b[0;34m(\u001b[0m\u001b[0mf\u001b[0m\u001b[0;34m(\u001b[0m\u001b[0;34m*\u001b[0m\u001b[0mxs\u001b[0m\u001b[0;34m)\u001b[0m \u001b[0;32mfor\u001b[0m \u001b[0mxs\u001b[0m \u001b[0;32min\u001b[0m \u001b[0mzip\u001b[0m\u001b[0;34m(\u001b[0m\u001b[0;34m*\u001b[0m\u001b[0mall_leaves\u001b[0m\u001b[0;34m)\u001b[0m\u001b[0;34m)\u001b[0m\u001b[0;34m\u001b[0m\u001b[0;34m\u001b[0m\u001b[0m\n\u001b[0m\u001b[1;32m    208\u001b[0m \u001b[0;34m\u001b[0m\u001b[0m\n\u001b[1;32m    209\u001b[0m \u001b[0;32mdef\u001b[0m \u001b[0mbuild_tree\u001b[0m\u001b[0;34m(\u001b[0m\u001b[0mtreedef\u001b[0m\u001b[0;34m:\u001b[0m \u001b[0mPyTreeDef\u001b[0m\u001b[0;34m,\u001b[0m \u001b[0mxs\u001b[0m\u001b[0;34m:\u001b[0m \u001b[0mAny\u001b[0m\u001b[0;34m)\u001b[0m \u001b[0;34m->\u001b[0m \u001b[0mAny\u001b[0m\u001b[0;34m:\u001b[0m\u001b[0;34m\u001b[0m\u001b[0;34m\u001b[0m\u001b[0m\n",
      "\u001b[0;32m~/.local/lib/python3.7/site-packages/jax/_src/tree_util.py\u001b[0m in \u001b[0;36m<genexpr>\u001b[0;34m(.0)\u001b[0m\n\u001b[1;32m    205\u001b[0m   \u001b[0mleaves\u001b[0m\u001b[0;34m,\u001b[0m \u001b[0mtreedef\u001b[0m \u001b[0;34m=\u001b[0m \u001b[0mtree_flatten\u001b[0m\u001b[0;34m(\u001b[0m\u001b[0mtree\u001b[0m\u001b[0;34m,\u001b[0m \u001b[0mis_leaf\u001b[0m\u001b[0;34m)\u001b[0m\u001b[0;34m\u001b[0m\u001b[0;34m\u001b[0m\u001b[0m\n\u001b[1;32m    206\u001b[0m   \u001b[0mall_leaves\u001b[0m \u001b[0;34m=\u001b[0m \u001b[0;34m[\u001b[0m\u001b[0mleaves\u001b[0m\u001b[0;34m]\u001b[0m \u001b[0;34m+\u001b[0m \u001b[0;34m[\u001b[0m\u001b[0mtreedef\u001b[0m\u001b[0;34m.\u001b[0m\u001b[0mflatten_up_to\u001b[0m\u001b[0;34m(\u001b[0m\u001b[0mr\u001b[0m\u001b[0;34m)\u001b[0m \u001b[0;32mfor\u001b[0m \u001b[0mr\u001b[0m \u001b[0;32min\u001b[0m \u001b[0mrest\u001b[0m\u001b[0;34m]\u001b[0m\u001b[0;34m\u001b[0m\u001b[0;34m\u001b[0m\u001b[0m\n\u001b[0;32m--> 207\u001b[0;31m   \u001b[0;32mreturn\u001b[0m \u001b[0mtreedef\u001b[0m\u001b[0;34m.\u001b[0m\u001b[0munflatten\u001b[0m\u001b[0;34m(\u001b[0m\u001b[0mf\u001b[0m\u001b[0;34m(\u001b[0m\u001b[0;34m*\u001b[0m\u001b[0mxs\u001b[0m\u001b[0;34m)\u001b[0m \u001b[0;32mfor\u001b[0m \u001b[0mxs\u001b[0m \u001b[0;32min\u001b[0m \u001b[0mzip\u001b[0m\u001b[0;34m(\u001b[0m\u001b[0;34m*\u001b[0m\u001b[0mall_leaves\u001b[0m\u001b[0;34m)\u001b[0m\u001b[0;34m)\u001b[0m\u001b[0;34m\u001b[0m\u001b[0;34m\u001b[0m\u001b[0m\n\u001b[0m\u001b[1;32m    208\u001b[0m \u001b[0;34m\u001b[0m\u001b[0m\n\u001b[1;32m    209\u001b[0m \u001b[0;32mdef\u001b[0m \u001b[0mbuild_tree\u001b[0m\u001b[0;34m(\u001b[0m\u001b[0mtreedef\u001b[0m\u001b[0;34m:\u001b[0m \u001b[0mPyTreeDef\u001b[0m\u001b[0;34m,\u001b[0m \u001b[0mxs\u001b[0m\u001b[0;34m:\u001b[0m \u001b[0mAny\u001b[0m\u001b[0;34m)\u001b[0m \u001b[0;34m->\u001b[0m \u001b[0mAny\u001b[0m\u001b[0;34m:\u001b[0m\u001b[0;34m\u001b[0m\u001b[0;34m\u001b[0m\u001b[0m\n",
      "\u001b[0;32m/data80/makinen/venvs/testjax/lib/python3.7/site-packages/optax/_src/transform.py\u001b[0m in \u001b[0;36m<lambda>\u001b[0;34m(g, t)\u001b[0m\n\u001b[1;32m     82\u001b[0m   \u001b[0;34m\"\"\"Compute the exponential moving average of the `order`-th moment.\"\"\"\u001b[0m\u001b[0;34m\u001b[0m\u001b[0;34m\u001b[0m\u001b[0m\n\u001b[1;32m     83\u001b[0m   return jax.tree_util.tree_map(\n\u001b[0;32m---> 84\u001b[0;31m       lambda g, t: (1 - decay) * (g ** order) + decay * t, updates, moments)\n\u001b[0m\u001b[1;32m     85\u001b[0m \u001b[0;34m\u001b[0m\u001b[0m\n\u001b[1;32m     86\u001b[0m \u001b[0;34m\u001b[0m\u001b[0m\n",
      "\u001b[0;32m~/.local/lib/python3.7/site-packages/jax/_src/numpy/lax_numpy.py\u001b[0m in \u001b[0;36mdeferring_binary_op\u001b[0;34m(self, other)\u001b[0m\n\u001b[1;32m   4934\u001b[0m     \u001b[0margs\u001b[0m \u001b[0;34m=\u001b[0m \u001b[0;34m(\u001b[0m\u001b[0mother\u001b[0m\u001b[0;34m,\u001b[0m \u001b[0mself\u001b[0m\u001b[0;34m)\u001b[0m \u001b[0;32mif\u001b[0m \u001b[0mswap\u001b[0m \u001b[0;32melse\u001b[0m \u001b[0;34m(\u001b[0m\u001b[0mself\u001b[0m\u001b[0;34m,\u001b[0m \u001b[0mother\u001b[0m\u001b[0;34m)\u001b[0m\u001b[0;34m\u001b[0m\u001b[0;34m\u001b[0m\u001b[0m\n\u001b[1;32m   4935\u001b[0m     \u001b[0;32mif\u001b[0m \u001b[0misinstance\u001b[0m\u001b[0;34m(\u001b[0m\u001b[0mother\u001b[0m\u001b[0;34m,\u001b[0m \u001b[0m_accepted_binop_types\u001b[0m\u001b[0;34m)\u001b[0m\u001b[0;34m:\u001b[0m\u001b[0;34m\u001b[0m\u001b[0;34m\u001b[0m\u001b[0m\n\u001b[0;32m-> 4936\u001b[0;31m       \u001b[0;32mreturn\u001b[0m \u001b[0mbinary_op\u001b[0m\u001b[0;34m(\u001b[0m\u001b[0;34m*\u001b[0m\u001b[0margs\u001b[0m\u001b[0;34m)\u001b[0m\u001b[0;34m\u001b[0m\u001b[0;34m\u001b[0m\u001b[0m\n\u001b[0m\u001b[1;32m   4937\u001b[0m     \u001b[0;32mif\u001b[0m \u001b[0misinstance\u001b[0m\u001b[0;34m(\u001b[0m\u001b[0mother\u001b[0m\u001b[0;34m,\u001b[0m \u001b[0m_rejected_binop_types\u001b[0m\u001b[0;34m)\u001b[0m\u001b[0;34m:\u001b[0m\u001b[0;34m\u001b[0m\u001b[0;34m\u001b[0m\u001b[0m\n\u001b[1;32m   4938\u001b[0m       raise TypeError(f\"unsupported operand type(s) for {opchar}: \"\n",
      "\u001b[0;31mKeyboardInterrupt\u001b[0m: "
     ]
    }
   ],
   "source": [
    "pbar = tqdm(range(epochs), leave=True, position=0)\n",
    "\n",
    "for j in pbar:\n",
    "  key,rng = jax.random.split(key)\n",
    "\n",
    "  for i in range(len(X_train) // batch_size):\n",
    "    x_samples = X_train[batch_size*i:(batch_size*(i+1))]\n",
    "    y_samples = y_train[batch_size*i:(batch_size*(i+1))]\n",
    "\n",
    "    keys = jax.random.split(key, num=batch_size)\n",
    "    x_samples = jax.vmap(noise_simulator)(keys, x_samples)\n",
    "\n",
    "    loss_val, grads = loss_grad_fn(w, x_samples, y_samples)\n",
    "    updates, opt_state = tx.update(grads, opt_state)\n",
    "    w = optax.apply_updates(w, updates)\n",
    "    if i % 10 == 0:\n",
    "\n",
    "      val_loss, _ = loss_grad_fn(w, X_test, y_test)\n",
    "      #print('loss step {}: '.format(i), loss_val)\n",
    "      #print('val loss step {}: '.format(i), val_loss_val)\n",
    "      \n",
    "  losses.append(loss_val)\n",
    "  val_losses.append(val_loss)\n",
    "  pbar.set_description('epoch loss %d: %.4f, val loss: %.4f'%(j, loss_val, val_loss))"
   ]
  },
  {
   "cell_type": "code",
   "execution_count": 60,
   "metadata": {},
   "outputs": [
    {
     "data": {
      "text/plain": [
       "[<matplotlib.lines.Line2D at 0x7f9d7a0324d0>]"
      ]
     },
     "execution_count": 60,
     "metadata": {},
     "output_type": "execute_result"
    },
    {
     "data": {
      "image/png": "[encoded data removed]",
      "text/plain": [
       "<Figure size 432x288 with 1 Axes>"
      ]
     },
     "metadata": {
      "needs_background": "light"
     },
     "output_type": "display_data"
    }
   ],
   "source": [
    "plt.plot(losses)\n",
    "plt.plot(val_losses)\n",
    "#plt.yscale('log')"
   ]
  },
  {
   "cell_type": "code",
   "execution_count": 17,
   "metadata": {},
   "outputs": [
    {
     "data": {
      "text/plain": [
       "(10000, 4, 64, 64, 2)"
      ]
     },
     "execution_count": 17,
     "metadata": {},
     "output_type": "execute_result"
    }
   ],
   "source": [
    "X.shape"
   ]
  },
  {
   "cell_type": "code",
   "execution_count": 62,
   "metadata": {},
   "outputs": [
    {
     "name": "stdout",
     "output_type": "stream",
     "text": [
      "Variable                     Type                      Data/Info\n",
      "----------------------------------------------------------------\n",
      "Any                          _SpecialForm              typing.Any\n",
      "Array                        _SpecialForm              typing.Any\n",
      "AsinhLayer                   type                      <class 'nets.AsinhLayer'>\n",
      "CNN3D                        type                      <class 'nets.CNN3D'>\n",
      "CNNRes3D                     type                      <class 'nets.CNNRes3D'>\n",
      "Callable                     _VariadicGenericAlias     typing.Callable\n",
      "ConvBlock3D                  type                      <class 'nets.ConvBlock3D'>\n",
      "InceptBlock                  type                      <class 'nets.InceptBlock'>\n",
      "InceptBlock3D                type                      <class 'nets.InceptBlock3D'>\n",
      "InceptNet                    type                      <class 'nets.InceptNet'>\n",
      "InceptResBlock               type                      <class 'nets.InceptResBlock'>\n",
      "InceptResNet                 type                      <class 'nets.InceptResNet'>\n",
      "IncpetNet3DExplicit          type                      <class 'nets.IncpetNet3DExplicit'>\n",
      "NoiseNumericalGradientIMNN   type                      <class 'imnn_mod.NoiseNumericalGradientIMNN'>\n",
      "Optional                     _SpecialForm              typing.Optional\n",
      "Sequence                     _GenericAlias             typing.Sequence\n",
      "Union                        _SpecialForm              typing.Union\n",
      "X                            DeviceArray               [[[[[ 1.00734772e-03  2.3<...>e-04 -6.12912583e-04]]]]]\n",
      "X_test                       DeviceArray               [[[[[ 1.78554398e-03  1.2<...>e-04  9.12998454e-04]]]]]\n",
      "X_train                      DeviceArray               [[[[[-6.06215850e-04 -1.2<...>e-03  1.72476657e-03]]]]]\n",
      "Xt                           DeviceArray               [[[[[ 1.00734772e-03  2.3<...>e-04 -6.12912583e-04]]]]]\n",
      "act                          str                       almost_leaky\n",
      "almost_leaky                 CompiledFunction          <CompiledFunction of <fun<...>leaky at 0x7fa22d688170>>\n",
      "batch_size                   int                       250\n",
      "config_path                  str                       /data80/makinen/borg_sims<...>am3/retrain2/configs.json\n",
      "configs                      dict                      n=11\n",
      "datadir                      str                       /data80/makinen/borg_sims_fixed/\n",
      "do_noise                     bool                      True\n",
      "epochs                       int                       100\n",
      "f                            TextIOWrapper             <_io.TextIOWrapper name='<...>ode='r' encoding='UTF-8'>\n",
      "filters                      tuple                     n=4\n",
      "freeze                       function                  <function freeze at 0x7fa22fc8cf80>\n",
      "grads                        FrozenDict                FrozenDict({\\n    params:<...>,\\n        },\\n    },\\n})\n",
      "h5py                         module                    <module 'h5py' from '/sof<...>2.10.1/h5py/__init__.py'>\n",
      "i                            int                       38\n",
      "input_shape                  tuple                     n=4\n",
      "j                            int                       99\n",
      "jax                          module                    <module 'jax' from '/home<...>ackages/jax/__init__.py'>\n",
      "jnp                          module                    <module 'jax.numpy' from <...>s/jax/numpy/__init__.py'>\n",
      "json                         module                    <module 'json' from '/sof<...>hon3.7/json/__init__.py'>\n",
      "key                          DeviceArray               [ 737412133 2686725267]\n",
      "keys                         DeviceArray               [[1843967711 3370307776]\\<...> [ 106821138 2057654404]]\n",
      "load_obj                     function                  <function load_obj at 0x7fa1e5d478c0>\n",
      "loss_grad_fn                 function                  <function mse at 0x7fa0e4fd7dd0>\n",
      "loss_val                     DeviceArray               0.010828113\n",
      "losses                       list                      n=492\n",
      "math                         module                    <module 'math' from '/sof<...>37m-x86_64-linux-gnu.so'>\n",
      "model                        CNNRes3D                  CNNRes3D(\\n    # attribut<...>  act = 'almost_leaky'\\n)\n",
      "model_key                    DeviceArray               [ 0 42]\n",
      "modeldir                     str                       /data80/makinen/borg_sims<...>_runs/two_param3/retrain/\n",
      "mse                          CompiledFunction          <CompiledFunction of <fun<...>n mse at 0x7fa134120f80>>\n",
      "mynet                        function                  <function mynet at 0x7fa134120830>\n",
      "n_d                          int                       250\n",
      "n_params                     int                       2\n",
      "n_s                          int                       1000\n",
      "n_summaries                  int                       2\n",
      "net_scaling                  float                     0.005\n",
      "nn                           module                    <module 'flax.linen' from<...>/flax/linen/__init__.py'>\n",
      "noise_scale                  int                       1\n",
      "noise_simulator              CompiledFunction          <CompiledFunction of <fun<...>lator at 0x7fa137644e60>>\n",
      "noise_variances              DeviceArray               [1.7956022e-06 5.4485899e<...>544876e-06 1.3273625e-05]\n",
      "noisedat                     DeviceArray               [[[[[ 6.72875205e-04 -2.3<...>e-04  1.28581491e-03]]]]]\n",
      "np                           module                    <module 'jax.numpy' from <...>s/jax/numpy/__init__.py'>\n",
      "opt_state                    tuple                     n=2\n",
      "optax                        module                    <module 'optax' from '/da<...>kages/optax/__init__.py'>\n",
      "optimiser                    GradientTransformation    GradientTransformation(in<...>te_fn at 0x7fa137644710>)\n",
      "output                       DeviceArray               [24508.848 34212.043]\n",
      "partial                      type                      <class 'functools.partial'>\n",
      "patience                     int                       2000\n",
      "pbar                         tqdm                      epoch loss 99: 0.0108, va<...>:57:09<00:00, 718.29s/it]\n",
      "pickle                       module                    <module 'cloudpickle' fro<...>cloudpickle/__init__.py'>\n",
      "plt                          module                    <module 'matplotlib.pyplo<...>es/matplotlib/pyplot.py'>\n",
      "priordir                     str                       /data80/makinen/borg_sims<...>fixed/uniform_prior_sims/\n",
      "progress_bar                 module                    <module 'imnn.experimenta<...>imental/progress_bar.py'>\n",
      "reshape_data                 function                  <function reshape_data at 0x7fa1e5d479e0>\n",
      "rng                          DeviceArray               [ 815364765 4070837276]\n",
      "rotate_sim                   CompiledFunction          <CompiledFunction of <fun<...>e_sim at 0x7fa22ca86950>>\n",
      "save_obj                     function                  <function save_obj at 0x7fa1e5d47440>\n",
      "savedir                      str                       /data80/makinen/borg_sims<...>runs/two_param3/retrain2/\n",
      "shape                        tuple                     n=4\n",
      "tqdm                         type                      <class 'tqdm.std.tqdm'>\n",
      "train_test_split             function                  <function train_test_split at 0x7fa13797ee60>\n",
      "tx                           GradientTransformation    GradientTransformation(in<...>te_fn at 0x7fa0e48cd050>)\n",
      "unfreeze                     function                  <function unfreeze at 0x7fa22fc92050>\n",
      "updates                      FrozenDict                FrozenDict({\\n    params:<...>,\\n        },\\n    },\\n})\n",
      "val_loss                     DeviceArray               0.013132239\n",
      "val_losses                   list                      n=492\n",
      "value_and_jacrev             function                  <function value_and_jacrev at 0x7fa22caaa680>\n",
      "w                            FrozenDict                FrozenDict({\\n    params:<...>,\\n        },\\n    },\\n})\n",
      "x                            DeviceArray               [[0.38682473 1.153821  ]\\<...> [0.66649586 0.95284444]]\n",
      "x1                           DeviceArray               [[0.38682473 1.153821  ]\\<...> [0.66649586 0.95284444]]\n",
      "x2                           DeviceArray               [[0.60472953 1.2163794 ]\\<...> [0.6323705  0.76417226]]\n",
      "x_samples                    DeviceArray               [[[[[-1.60552817e-03  9.5<...>e-03  5.45992609e-03]]]]]\n",
      "y                            DeviceArray               [[0.41236293 1.1341705 ]\\<...> [0.6587473  0.5520547 ]]\n",
      "y_samples                    DeviceArray               [[0.6448764  0.7518907 ]\\<...> [0.74906874 0.84805346]]\n",
      "y_test                       DeviceArray               [[0.5566429  0.6277865 ]\\<...> [0.30763355 0.9051822 ]]\n",
      "y_train                      DeviceArray               [[0.5372977  1.2033985 ]\\<...> [0.74906874 0.84805346]]\n",
      "yt                           DeviceArray               [[0.41236293 1.1341705 ]\\<...> [0.6587473  0.5520547 ]]\n",
      "δθ                           DeviceArray               [0.1  0.03]\n",
      "θ_der                        DeviceArray               [[0.26749998 0.8       ]\\<...> [0.3175     0.815     ]]\n",
      "θ_fid                        DeviceArray               [0.3175 0.8   ]\n"
     ]
    }
   ],
   "source": [
    "whos"
   ]
  },
  {
   "cell_type": "code",
   "execution_count": null,
   "metadata": {},
   "outputs": [],
   "source": []
  },
  {
   "cell_type": "code",
   "execution_count": 54,
   "metadata": {},
   "outputs": [],
   "source": [
    "_mynet = lambda d: mynet(w, d)\n",
    "\n",
    "num = 2500\n",
    "\n",
    "keys = jax.random.split(key, num=num)\n",
    "noisedat = jax.vmap(noise_simulator)(keys, X[-num:])\n",
    "x = jax.vmap(_mynet)(noisedat)\n",
    "\n",
    "#key,rng = jax.random.split(key)\n",
    "\n",
    "#keys = jax.random.split(key, num=2500)\n",
    "#noisedat = jax.vmap(noise_simulator)(keys, X[2500:5000])\n",
    "\n",
    "#x2 = jax.vmap(_mynet)(noisedat)\n",
    "\n",
    "\n",
    "# key,rng = jax.random.split(key)\n",
    "\n",
    "# keys = jax.random.split(key, num=2500)\n",
    "# noisedat = jax.vmap(noise_simulator)(keys, X[5000:7500])\n",
    "\n",
    "# x3 = jax.vmap(_mynet)(noisedat)\n",
    "\n",
    "\n",
    "\n",
    "#x = jnp.concatenate([x1, x2, x3])"
   ]
  },
  {
   "cell_type": "code",
   "execution_count": 48,
   "metadata": {},
   "outputs": [
    {
     "data": {
      "text/plain": [
       "(2500, 2)"
      ]
     },
     "execution_count": 48,
     "metadata": {},
     "output_type": "execute_result"
    }
   ],
   "source": [
    "x.shape"
   ]
  },
  {
   "cell_type": "code",
   "execution_count": 55,
   "metadata": {},
   "outputs": [
    {
     "data": {
      "text/plain": [
       "<matplotlib.collections.PathCollection at 0x7f9d7a01e950>"
      ]
     },
     "execution_count": 55,
     "metadata": {},
     "output_type": "execute_result"
    },
    {
     "data": {
      "image/png": "[encoded data removed]",
      "text/plain": [
       "<Figure size 432x288 with 1 Axes>"
      ]
     },
     "metadata": {
      "needs_background": "light"
     },
     "output_type": "display_data"
    }
   ],
   "source": [
    "#plt.scatter(y[:2500, 0], xold[:, 0], s=2)\n",
    "plt.scatter(y[-2500:, 0], x[:, 0], s=2)\n",
    "#plt.ylim(-1, 2)"
   ]
  },
  {
   "cell_type": "code",
   "execution_count": 56,
   "metadata": {},
   "outputs": [
    {
     "data": {
      "text/plain": [
       "<matplotlib.collections.PathCollection at 0x7f9d28e5d050>"
      ]
     },
     "execution_count": 56,
     "metadata": {},
     "output_type": "execute_result"
    },
    {
     "data": {
      "image/png": "[encoded data removed]",
      "text/plain": [
       "<Figure size 432x288 with 1 Axes>"
      ]
     },
     "metadata": {
      "needs_background": "light"
     },
     "output_type": "display_data"
    }
   ],
   "source": [
    "#plt.scatter(y[:2500, 1], xold[:, 1], s=2)\n",
    "plt.scatter(y[-2500:, 1], x[:, 1], s=2)\n",
    "#plt.ylim(0, 3)"
   ]
  },
  {
   "cell_type": "code",
   "execution_count": 57,
   "metadata": {},
   "outputs": [
    {
     "name": "stdout",
     "output_type": "stream",
     "text": [
      "/home/makinen/repositories/alfi_lensing\n"
     ]
    }
   ],
   "source": [
    "cd /home/makinen/repositories/alfi_lensing/"
   ]
  },
  {
   "cell_type": "code",
   "execution_count": 58,
   "metadata": {},
   "outputs": [],
   "source": [
    "np.save(\"regression_x_log\", x)\n",
    "np.save(\"regression_theta_log\", y[-2500:])"
   ]
  },
  {
   "cell_type": "code",
   "execution_count": 91,
   "metadata": {},
   "outputs": [],
   "source": [
    "save_obj(w, '/data80/makinen/borg_sims/regression_net_w_log')"
   ]
  },
  {
   "cell_type": "code",
   "execution_count": 27,
   "metadata": {},
   "outputs": [
    {
     "data": {
      "text/plain": [
       "(4, 64, 64, 2)"
      ]
     },
     "execution_count": 27,
     "metadata": {},
     "output_type": "execute_result"
    }
   ],
   "source": [
    "target_data = np.load('/data80/makinen/borg_sims/natalia_target_data.npy')\n",
    "\n",
    "target_data.shape"
   ]
  },
  {
   "cell_type": "code",
   "execution_count": 28,
   "metadata": {},
   "outputs": [],
   "source": [
    "estimates = _mynet(jnp.expand_dims(target_data, 0))"
   ]
  },
  {
   "cell_type": "code",
   "execution_count": 29,
   "metadata": {},
   "outputs": [
    {
     "data": {
      "text/plain": [
       "DeviceArray([0.6333694 , 0.75071967], dtype=float32)"
      ]
     },
     "execution_count": 29,
     "metadata": {},
     "output_type": "execute_result"
    }
   ],
   "source": [
    "estimates"
   ]
  },
  {
   "cell_type": "code",
   "execution_count": 33,
   "metadata": {},
   "outputs": [],
   "source": [
    "jnp.save('/data80/makinen/borg_sims/natalia_target_summaries', estimates)"
   ]
  },
  {
   "cell_type": "code",
   "execution_count": 25,
   "metadata": {},
   "outputs": [],
   "source": [
    "#jnp.save('/data80/makinen/borg_sims/x_regression_imnn', x)"
   ]
  },
  {
   "cell_type": "code",
   "execution_count": 94,
   "metadata": {},
   "outputs": [],
   "source": [
    "# get estimates on natalia's data\n",
    "\n",
    "import numpy as np\n",
    "import pylab as plt\n",
    "import h5py as h5\n",
    "\n",
    "def get_data(Ncat,N0,N1,f):\n",
    "    dataR = np.zeros((Ncat,N0,N1))\n",
    "    dataI = np.zeros((Ncat,N0,N1))\n",
    "    \n",
    "    for cat in range(0,Ncat,1):\n",
    "        survey = f['lensing_catalog_'+str(cat)]['lensing_data']['lensing'][:]\n",
    "        Nobs = len(survey)\n",
    "        N0 = f['scalars/N0'][0]\n",
    "        N1 = f['scalars/N1'][0]\n",
    "        \n",
    "        count = np.zeros((N0,N1))\n",
    "        for nobs in range(0,Nobs,1):\n",
    "            lens = survey[nobs]\n",
    "            n0 = int(lens['phi'])\n",
    "            n1 = int(lens['theta'])\n",
    "            dataR[cat,n0,n1] = lens['shearR']\n",
    "            dataI[cat,n0,n1] = lens['shearI']\n",
    "            count[n0,n1] += 1\n",
    "    return dataR, dataI\n",
    "\n",
    "path = '/data80/nporqueres/borg_sims_fixed/borg_run/fixed_IA/fixed_h/'\n",
    "f = h5.File(path + 'mock_data.h5', 'r')\n",
    "\n",
    "Ncat = f['scalars/NCAT'][0]\n",
    "\n",
    "N0 = f['scalars/N0'][0]\n",
    "N1 = f['scalars/N1'][0]\n",
    "N2 = f['scalars/N2'][0]\n",
    "\n",
    "L0 = f['scalars/L0'][0]\n",
    "L1 = f['scalars/L1'][0]\n",
    "L2 = f['scalars/L2'][0]\n",
    "\n",
    "dataR, dataI = get_data(Ncat, N0, N1, f)\n",
    "\n",
    "\n",
    "\n",
    "target_data = target_data.at[::2, :, :].set(dataR)\n",
    "target_data = target_data.at[1::2, :, :].set(dataI)\n",
    "\n",
    "target_data = reshape_data(np.expand_dims(target_data, 0))"
   ]
  },
  {
   "cell_type": "code",
   "execution_count": 96,
   "metadata": {},
   "outputs": [
    {
     "data": {
      "text/plain": [
       "DeviceArray([0.37238947, 0.7767356 ], dtype=float32)"
      ]
     },
     "execution_count": 96,
     "metadata": {},
     "output_type": "execute_result"
    }
   ],
   "source": [
    "_mynet(target_data)"
   ]
  },
  {
   "cell_type": "code",
   "execution_count": 28,
   "metadata": {},
   "outputs": [],
   "source": [
    "np.save('/data80/makinen/borg_sims/natalia_target_data', jnp.squeeze(target_data))"
   ]
  },
  {
   "cell_type": "code",
   "execution_count": null,
   "metadata": {},
   "outputs": [],
   "source": []
  }
 ],
 "metadata": {
  "kernelspec": {
   "display_name": "Python 3",
   "language": "python",
   "name": "python3"
  },
  "language_info": {
   "codemirror_mode": {
    "name": "ipython",
    "version": 3
   },
   "file_extension": ".py",
   "mimetype": "text/x-python",
   "name": "python",
   "nbconvert_exporter": "python",
   "pygments_lexer": "ipython3",
   "version": "3.7.7"
  },
  "orig_nbformat": 4,
  "vscode": {
   "interpreter": {
    "hash": "31f2aee4e71d21fbe5cf8b01ff0e069b9275f58929596ceb00d14d90e3e16cd6"
   }
  }
 },
 "nbformat": 4,
 "nbformat_minor": 2
}
